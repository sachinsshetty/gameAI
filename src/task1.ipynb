{
 "cells": [
  {
   "cell_type": "markdown",
   "metadata": {},
   "source": [
    "Task 1.1\n",
    "\n",
    "Implemented as 2 player, turn based game.\n",
    "\n",
    "Player X starts,\n",
    "\n",
    "Input is provided via index of 3X3 matrix.\n",
    "\n",
    "ex. 1,2 for marking X in row 2 and column 3,\n",
    "\n",
    "Robot Chooses empty space randomly"
   ]
  },
  {
   "cell_type": "markdown",
   "metadata": {},
   "source": [
    "----------------"
   ]
  },
  {
   "cell_type": "markdown",
   "metadata": {},
   "source": [
    "Task 1.2\n",
    "\n",
    "Encoding\n",
    "\n",
    "Vs = Win, if max value of RowSum,DiagonalSum,ColumnSum,AntiDiagonalSum == 3\n",
    "   \n",
    "   = Loss, if min value of RowSum,DiagonalSum,ColumnSum,AntiDiagonalSum == -3\n",
    "\n",
    "   = Draw, otherwise"
   ]
  },
  {
   "cell_type": "markdown",
   "metadata": {},
   "source": [
    "----------------"
   ]
  },
  {
   "cell_type": "code",
   "execution_count": null,
   "metadata": {},
   "outputs": [],
   "source": [
    "#Game Entity Attributes\n",
    "\n",
    "import numpy as np\n",
    "\n",
    "\n",
    "player_cross=1\n",
    "player_circle=-1\n",
    "\n",
    "max_moves=9\n",
    "x_win=3\n",
    "o_win=-3\n",
    "draw=0\n"
   ]
  },
  {
   "cell_type": "code",
   "execution_count": null,
   "metadata": {},
   "outputs": [],
   "source": [
    "def check_win(game_state):\n",
    "    x_win=3\n",
    "    o_win=-3\n",
    "    draw=0\n",
    "    \n",
    "    rows=game_state.sum(axis=1)\n",
    "    cols=game_state.sum(axis=0)\n",
    "    \n",
    "    adag=np.fliplr(game_state).diagonal().sum()\n",
    "    diagonal=game_state.diagonal().sum()\n",
    "    \n",
    "    max_val=0\n",
    "    min_val=0\n",
    "    \n",
    "    max_val=max(diagonal,adag)\n",
    "    min_val=min(diagonal,adag)\n",
    "    \n",
    "    for x in range(3):\n",
    "        max_val=max(max_val,rows[x], cols[x])\n",
    "        min_val=min(min_val,rows[x], cols[x])\n",
    "        \n",
    "    if(max_val==x_win):\n",
    "        return(x_win)\n",
    "    if(min_val==o_win):\n",
    "        return(o_win)\n",
    "    \n",
    "        \n",
    "    return(draw)"
   ]
  },
  {
   "cell_type": "code",
   "execution_count": null,
   "metadata": {},
   "outputs": [],
   "source": [
    "def player_input():\n",
    "    print('\\nEnter Player X location, in matrix:')\n",
    "    loc = input() \n",
    "    x = int(loc.split(',')[0])\n",
    "    y = int(loc.split(',')[1])\n",
    "    return x,y"
   ]
  },
  {
   "cell_type": "code",
   "execution_count": null,
   "metadata": {},
   "outputs": [],
   "source": [
    "def robot_input(game_state, silent):\n",
    "    empty_space=np.argwhere(game_state== 0)\n",
    "    choice=np.random.choice(int(empty_space.size/2))\n",
    "    x=empty_space[choice][0]\n",
    "    y=empty_space[choice][1]\n",
    "    if(silent==False):\n",
    "        print(\"\\n Robot Chooses\",x,y)\n",
    "    return x,y"
   ]
  },
  {
   "cell_type": "code",
   "execution_count": null,
   "metadata": {},
   "outputs": [],
   "source": [
    "def run_task_1(game_state):\n",
    "    current_move = 1\n",
    "    \n",
    "    print(\"\\n Initial Game State : \\n\", game_state) \n",
    "\n",
    "    while ((current_move <= max_moves)):\n",
    "        if(current_move%2!=0):\n",
    "            x,y=player_input()\n",
    "            \n",
    "            game_state[x][y]=player_cross\n",
    "        else:\n",
    "            x,y=robot_input(game_state,False)\n",
    "            game_state[x][y]=player_circle\n",
    "        print(\"\\n Game State : \\n\", game_state)\n",
    "    \n",
    "        if(check_win(game_state)==x_win):\n",
    "            print(\"player X wins\")\n",
    "            break\n",
    "        if(check_win(game_state)==o_win):\n",
    "            print(\"player 0 wins\")\n",
    "            break\n",
    "\n",
    "        current_move += 1\n",
    "    if(check_win(game_state)==draw):\n",
    "        print(\"Match drawn\")\n",
    "    \n",
    "    "
   ]
  },
  {
   "cell_type": "code",
   "execution_count": null,
   "metadata": {},
   "outputs": [],
   "source": [
    "game_state = np.zeros([3, 3]) \n",
    "run_task_1(game_state)"
   ]
  },
  {
   "cell_type": "markdown",
   "metadata": {},
   "source": [
    "---------"
   ]
  },
  {
   "cell_type": "markdown",
   "metadata": {},
   "source": [
    "Task 3"
   ]
  },
  {
   "cell_type": "code",
   "execution_count": null,
   "metadata": {},
   "outputs": [],
   "source": [
    "def run_task_3():\n",
    "    max_run=10\n",
    "    current_run=1\n",
    "    draw_count=0\n",
    "    x_win_count=0\n",
    "    o_win_count=0\n",
    "    while(current_run <= max_run):\n",
    "        game_state = np.zeros([3, 3]) \n",
    "        current_move = 0\n",
    "        print(\"\\nRun No \", current_run)\n",
    "        \n",
    "        v_s = np.full(9,0.1)\n",
    "        \n",
    "        while ((current_move < max_moves)):\n",
    "            if(current_move%2!=0):\n",
    "                x,y=robot_input(game_state, True)\n",
    "                game_state[x][y]=player_cross\n",
    "            else:\n",
    "                x,y=robot_input(game_state, True)\n",
    "                game_state[x][y]=player_circle\n",
    "            #print(\"\\n Game State : \\n\", game_state)\n",
    "    \n",
    "            if(check_win(game_state)==x_win):\n",
    "                print(\"player X wins\")\n",
    "                x_win_count +=1\n",
    "                v_s[current_move] = 1\n",
    "                break\n",
    "            if(check_win(game_state)==o_win):\n",
    "                print(\"player 0 wins\")\n",
    "                o_win_count +=1\n",
    "                v_s[current_move] = 0\n",
    "                break\n",
    "\n",
    "            current_move += 1\n",
    "        if(check_win(game_state)==draw):\n",
    "            print(\"Match drawn\")\n",
    "            draw_count +=1\n",
    "            v_s[8] = 0\n",
    "            \n",
    "        if(current_move==max_moves):\n",
    "            current_move=8\n",
    "        \n",
    "        # Remove the unused states\n",
    "        v_s = np.delete(v_s,slice(current_move+1,9))\n",
    "        \n",
    "        \n",
    "        print(\"Current Move\", current_move)    \n",
    "        while(current_move > -1):\n",
    "            v_s[current_move] = v_s[current_move] + 0.2 * (v_s[current_move-1] - v_s[current_move])\n",
    "            current_move -= 1    \n",
    "        print(\"Final v_s value\", v_s)\n",
    "        current_run +=1"
   ]
  },
  {
   "cell_type": "code",
   "execution_count": null,
   "metadata": {},
   "outputs": [],
   "source": [
    "run_task_3()"
   ]
  },
  {
   "cell_type": "markdown",
   "metadata": {},
   "source": [
    "--------------"
   ]
  },
  {
   "cell_type": "markdown",
   "metadata": {},
   "source": [
    "Task 4 - Incomplete, automated player cuurently chooses randomly."
   ]
  },
  {
   "cell_type": "code",
   "execution_count": null,
   "metadata": {},
   "outputs": [],
   "source": [
    "def run_task_4():\n",
    "    max_run=1000\n",
    "    current_run=1\n",
    "    draw_count=0\n",
    "    x_win_count=0\n",
    "    o_win_count=0\n",
    "    final_states=[]\n",
    "    while(current_run < max_run): \n",
    "        game_state = np.zeros([3, 3]) \n",
    "        current_move = 1\n",
    "        print(\"\\nRun No \", current_run)\n",
    "        while ((current_move <= max_moves)):\n",
    "            if(current_move%2!=0):\n",
    "                x,y=robot_input(game_state, True)\n",
    "                game_state[x][y]=player_cross\n",
    "            else:\n",
    "                x,y=robot_input(game_state, True)\n",
    "                game_state[x][y]=player_circle\n",
    "            #print(\"\\n Game State : \\n\", game_state)\n",
    "    \n",
    "            if(check_win(game_state)==x_win):\n",
    "                print(\"player X wins\")\n",
    "                x_win_count +=1\n",
    "                break\n",
    "            if(check_win(game_state)==o_win):\n",
    "                print(\"player 0 wins\")\n",
    "                o_win_count +=1\n",
    "                break\n",
    "\n",
    "            current_move += 1\n",
    "        if(check_win(game_state)==draw):\n",
    "            print(\"Match drawn\")\n",
    "            draw_count +=1\n",
    "        \n",
    "        current_run +=1\n",
    "        final_states = np.append(final_states,game_state)\n",
    "    return x_win_count,o_win_count,draw_count, final_states\n",
    "    "
   ]
  },
  {
   "cell_type": "code",
   "execution_count": null,
   "metadata": {},
   "outputs": [],
   "source": [
    "stats=run_task_4()"
   ]
  },
  {
   "cell_type": "code",
   "execution_count": null,
   "metadata": {},
   "outputs": [],
   "source": [
    "print(\"No. of X Wins\",stats[0])\n",
    "print(\"No. of 0 Wins\",stats[1])\n",
    "print(\"No. of Draw\",stats[2])\n",
    "print(\"Terminal Game state for \", stats[3][100])"
   ]
  },
  {
   "cell_type": "code",
   "execution_count": null,
   "metadata": {},
   "outputs": [],
   "source": []
  },
  {
   "cell_type": "code",
   "execution_count": null,
   "metadata": {},
   "outputs": [],
   "source": []
  }
 ],
 "metadata": {
  "kernelspec": {
   "display_name": "Python 3",
   "language": "python",
   "name": "python3"
  },
  "language_info": {
   "codemirror_mode": {
    "name": "ipython",
    "version": 3
   },
   "file_extension": ".py",
   "mimetype": "text/x-python",
   "name": "python",
   "nbconvert_exporter": "python",
   "pygments_lexer": "ipython3",
   "version": "3.7.6"
  }
 },
 "nbformat": 4,
 "nbformat_minor": 4
}
